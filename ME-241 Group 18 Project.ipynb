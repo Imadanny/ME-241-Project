{
 "cells": [
  {
   "cell_type": "code",
   "execution_count": 1,
   "metadata": {},
   "outputs": [],
   "source": [
    "# ME-241 Engineering Computations\n",
    "# Problem 2 - 1D heat conduction\n",
    "# Group #18: Danny Randles, Edgar Marquez, Will Suddeth"
   ]
  },
  {
   "cell_type": "code",
   "execution_count": null,
   "metadata": {},
   "outputs": [],
   "source": [
    "# importing modules for matrix and plotting\n",
    "import numpy as np\n",
    "import matplotlib.pyplot as plt\n",
    "\n",
    "# defining material properties\n",
    "LBar   =         10     # length of bar: meters\n",
    "kCond  =         250    # thermal conductivity: W/m/C\n",
    "hConv  =         5      # convection coefficient: W/m^2/C\n",
    "xsInit =         0.1    # initial cross-section area: m^2\n",
    "xsFin  =         0.05   # Final cross-section area: m^2\n",
    "Tair   =         20     # air temp: Celsius\n",
    "Tinit  =         300    # initial bar temp: C\n",
    "n      =         50     # number of sections\n",
    "\n",
    "dx = xsInit/n\n",
    "\n",
    "\n",
    "\n"
   ]
  }
 ],
 "metadata": {
  "kernelspec": {
   "display_name": "Python 3.10.6 64-bit",
   "language": "python",
   "name": "python3"
  },
  "language_info": {
   "codemirror_mode": {
    "name": "ipython",
    "version": 3
   },
   "file_extension": ".py",
   "mimetype": "text/x-python",
   "name": "python",
   "nbconvert_exporter": "python",
   "pygments_lexer": "ipython3",
   "version": "3.10.6"
  },
  "orig_nbformat": 4,
  "vscode": {
   "interpreter": {
    "hash": "e7bc34ec14aff16c33525af6d8faaeeefdd8ef5449219a3d845b7773ca414590"
   }
  }
 },
 "nbformat": 4,
 "nbformat_minor": 2
}
